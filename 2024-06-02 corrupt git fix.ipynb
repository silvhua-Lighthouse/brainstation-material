{
 "cells": [
  {
   "attachments": {},
   "cell_type": "markdown",
   "metadata": {},
   "source": [
    "# Title\n",
    "[]()"
   ]
  },
  {
   "cell_type": "code",
   "execution_count": 2,
   "metadata": {},
   "outputs": [],
   "source": [
    "\n",
    "import pandas as pd\n",
    "import sys\n",
    "sys.path.append(r\"C:\\Users\\silvh\\OneDrive\\lighthouse\\custom_python\")\n",
    "# sys.path.append(r'C:\\Users\\silvh\\OneDrive\\lighthouse\\portfolio-projects\\GHL-chat\\src\\app')\n",
    "from silvhua import *\n",
    "# from datetime import datetime\n",
    "# sys.path.append(r\"C:\\Users\\silvh\\OneDrive\\lighthouse\\portfolio-projects\\online-PT-social-media-NLP\\src\")"
   ]
  },
  {
   "cell_type": "code",
   "execution_count": 6,
   "metadata": {},
   "outputs": [
    {
     "data": {
      "text/plain": [
       "'rm -rf .git/objects/2d/ab914a9be845fad3c604fbcf0494bce4f78929 .git/objects/2d/ab914a9be845fad3c604fbcf0494bce4f78929 .git/objects/2d/ab914a9be845fad3c604fbcf0494bce4f78929 .git/objects/4e/47f9889b6cba9a5b692c1ef13c63f1ba2f7dae .git/objects/4e/47f9889b6cba9a5b692c1ef13c63f1ba2f7dae .git/objects/4e/47f9889b6cba9a5b692c1ef13c63f1ba2f7dae .git/objects/53/d81173f2521d771399cd6d73d7401caba48653 .git/objects/53/d81173f2521d771399cd6d73d7401caba48653 .git/objects/53/d81173f2521d771399cd6d73d7401caba48653 .git/objects/56/cf7d7952fe98dc961dfb4d2552079b8f69c179 .git/objects/56/cf7d7952fe98dc961dfb4d2552079b8f69c179 .git/objects/56/cf7d7952fe98dc961dfb4d2552079b8f69c179 .git/objects/5e/b4ee115cd73e01757e45ecf29943f241466e4c .git/objects/5e/b4ee115cd73e01757e45ecf29943f241466e4c .git/objects/5e/b4ee115cd73e01757e45ecf29943f241466e4c .git/objects/70/51f5addb890bf7e84c851e0ce4d4908a3207a3 .git/objects/70/51f5addb890bf7e84c851e0ce4d4908a3207a3 .git/objects/70/51f5addb890bf7e84c851e0ce4d4908a3207a3 .git/objects/70/6ab297983485c436fdf50fac45066a2e553e25 .git/objects/70/6ab297983485c436fdf50fac45066a2e553e25 .git/objects/70/6ab297983485c436fdf50fac45066a2e553e25 .git/objects/77/cd7396bf38ff9468f0ceadbad4bdf831b7ec15 .git/objects/77/cd7396bf38ff9468f0ceadbad4bdf831b7ec15 .git/objects/77/cd7396bf38ff9468f0ceadbad4bdf831b7ec15 .git/objects/81/5231dcf8fce3c33d77860965b4afa4c6faf2e1 .git/objects/81/5231dcf8fce3c33d77860965b4afa4c6faf2e1 .git/objects/81/5231dcf8fce3c33d77860965b4afa4c6faf2e1 .git/objects/f7/fc099ac489a611c4f4878fdd01de49bcbe053d .git/objects/f7/fc099ac489a611c4f4878fdd01de49bcbe053d .git/objects/f7/fc099ac489a611c4f4878fdd01de49bcbe053d .git/objects/f7/c518c5ec47f9dc2581fc3671c62902b74d2bfa .git/objects/f7/c518c5ec47f9dc2581fc3671c62902b74d2bfa .git/objects/f7/c518c5ec47f9dc2581fc3671c62902b74d2bfa'"
      ]
     },
     "execution_count": 6,
     "metadata": {},
     "output_type": "execute_result"
    }
   ],
   "source": [
    "import re\n",
    "\n",
    "def extract_git_object_paths(input_string):\n",
    "    # Define a regex pattern to match the desired file paths\n",
    "    pattern = r\"\\.git/objects/[0-9a-f]{2}/[0-9a-f]{38}\"\n",
    "    \n",
    "    # Find all matches in the input string\n",
    "    matches = re.findall(pattern, input_string)\n",
    "    \n",
    "    # Return the list of matched paths\n",
    "    return matches\n",
    "\n",
    "def create_git_object_deletion_script(input_string):\n",
    "\n",
    "    git_object_paths = extract_git_object_paths(input_string)\n",
    "    # Create the git object deletion script\n",
    "    git_object_deletion_script = \"rm -rf \" + \" \".join(git_object_paths)\n",
    "    \n",
    "    # Return the git object deletion script\n",
    "    return git_object_deletion_script\n",
    "\n",
    "input_string = \"\"\"\n",
    "error: object file .git/objects/2d/ab914a9be845fad3c604fbcf0494bce4f78929 is empty                                      error: unable to mmap .git/objects/2d/ab914a9be845fad3c604fbcf0494bce4f78929: No such file or directory                 error: 2dab914a9be845fad3c604fbcf0494bce4f78929: object corrupt or missing: .git/objects/2d/ab914a9be845fad3c604fbcf0494bce4f78929                                                                                                              error: object file .git/objects/4e/47f9889b6cba9a5b692c1ef13c63f1ba2f7dae is empty                                      error: unable to mmap .git/objects/4e/47f9889b6cba9a5b692c1ef13c63f1ba2f7dae: No such file or directory                 error: 4e47f9889b6cba9a5b692c1ef13c63f1ba2f7dae: object corrupt or missing: .git/objects/4e/47f9889b6cba9a5b692c1ef13c63f1ba2f7dae                                                                                                              error: object file .git/objects/53/d81173f2521d771399cd6d73d7401caba48653 is empty                                      error: unable to mmap .git/objects/53/d81173f2521d771399cd6d73d7401caba48653: No such file or directory                 error: 53d81173f2521d771399cd6d73d7401caba48653: object corrupt or missing: .git/objects/53/d81173f2521d771399cd6d73d7401caba48653                                                                                                              error: object file .git/objects/56/cf7d7952fe98dc961dfb4d2552079b8f69c179 is empty                                      error: unable to mmap .git/objects/56/cf7d7952fe98dc961dfb4d2552079b8f69c179: No such file or directory                 error: 56cf7d7952fe98dc961dfb4d2552079b8f69c179: object corrupt or missing: .git/objects/56/cf7d7952fe98dc961dfb4d2552079b8f69c179                                                                                                              error: object file .git/objects/5e/b4ee115cd73e01757e45ecf29943f241466e4c is empty                                      error: unable to mmap .git/objects/5e/b4ee115cd73e01757e45ecf29943f241466e4c: No such file or directory                 error: 5eb4ee115cd73e01757e45ecf29943f241466e4c: object corrupt or missing: .git/objects/5e/b4ee115cd73e01757e45ecf29943f241466e4c                                                                                                              error: object file .git/objects/70/51f5addb890bf7e84c851e0ce4d4908a3207a3 is empty                                      error: unable to mmap .git/objects/70/51f5addb890bf7e84c851e0ce4d4908a3207a3: No such file or directory                 error: 7051f5addb890bf7e84c851e0ce4d4908a3207a3: object corrupt or missing: .git/objects/70/51f5addb890bf7e84c851e0ce4d4908a3207a3                                                                                                              error: object file .git/objects/70/6ab297983485c436fdf50fac45066a2e553e25 is empty                                      error: unable to mmap .git/objects/70/6ab297983485c436fdf50fac45066a2e553e25: No such file or directory                 error: 706ab297983485c436fdf50fac45066a2e553e25: object corrupt or missing: .git/objects/70/6ab297983485c436fdf50fac45066a2e553e25                                                                                                              error: object file .git/objects/77/cd7396bf38ff9468f0ceadbad4bdf831b7ec15 is empty                                      error: unable to mmap .git/objects/77/cd7396bf38ff9468f0ceadbad4bdf831b7ec15: No such file or directory                 error: 77cd7396bf38ff9468f0ceadbad4bdf831b7ec15: object corrupt or missing: .git/objects/77/cd7396bf38ff9468f0ceadbad4bdf831b7ec15                                                                                                              error: object file .git/objects/81/5231dcf8fce3c33d77860965b4afa4c6faf2e1 is empty                                      error: unable to mmap .git/objects/81/5231dcf8fce3c33d77860965b4afa4c6faf2e1: No such file or directory                 error: 815231dcf8fce3c33d77860965b4afa4c6faf2e1: object corrupt or missing: .git/objects/81/5231dcf8fce3c33d77860965b4afa4c6faf2e1                                                                                                              error: object file .git/objects/f7/fc099ac489a611c4f4878fdd01de49bcbe053d is empty                                      error: unable to mmap .git/objects/f7/fc099ac489a611c4f4878fdd01de49bcbe053d: No such file or directory                 error: f7fc099ac489a611c4f4878fdd01de49bcbe053d: object corrupt or missing: .git/objects/f7/fc099ac489a611c4f4878fdd01de49bcbe053d                                                                                                              error: object file .git/objects/f7/c518c5ec47f9dc2581fc3671c62902b74d2bfa is empty                                      error: unable to mmap .git/objects/f7/c518c5ec47f9dc2581fc3671c62902b74d2bfa: No such file or directory                 error: f7c518c5ec47f9dc2581fc3671c62902b74d2bfa: object corrupt or missing: .git/objects/f7/c518c5ec47f9dc2581fc3671c62902b74d2bfa                                                                              \n",
    "\"\"\"\n",
    "\n",
    "\n",
    "create_git_object_deletion_script(input_string)"
   ]
  },
  {
   "cell_type": "code",
   "execution_count": 3,
   "metadata": {},
   "outputs": [
    {
     "data": {
      "text/plain": [
       "True"
      ]
     },
     "execution_count": 3,
     "metadata": {},
     "output_type": "execute_result"
    }
   ],
   "source": [
    "'.git/objects/09/989d04bfbf7d1094373cceff8de967a582f03c' == '.git/objects/09/989d04bfbf7d1094373cceff8de967a582f03c'\n"
   ]
  },
  {
   "cell_type": "code",
   "execution_count": null,
   "metadata": {},
   "outputs": [],
   "source": []
  },
  {
   "cell_type": "code",
   "execution_count": null,
   "metadata": {},
   "outputs": [],
   "source": []
  },
  {
   "cell_type": "code",
   "execution_count": null,
   "metadata": {},
   "outputs": [],
   "source": []
  },
  {
   "cell_type": "code",
   "execution_count": null,
   "metadata": {},
   "outputs": [],
   "source": []
  },
  {
   "cell_type": "code",
   "execution_count": null,
   "metadata": {},
   "outputs": [],
   "source": []
  },
  {
   "cell_type": "code",
   "execution_count": null,
   "metadata": {},
   "outputs": [],
   "source": []
  },
  {
   "cell_type": "code",
   "execution_count": null,
   "metadata": {},
   "outputs": [],
   "source": []
  },
  {
   "cell_type": "code",
   "execution_count": null,
   "metadata": {},
   "outputs": [],
   "source": []
  },
  {
   "cell_type": "code",
   "execution_count": null,
   "metadata": {},
   "outputs": [],
   "source": []
  },
  {
   "cell_type": "code",
   "execution_count": null,
   "metadata": {},
   "outputs": [],
   "source": []
  },
  {
   "cell_type": "code",
   "execution_count": null,
   "metadata": {},
   "outputs": [],
   "source": []
  },
  {
   "cell_type": "code",
   "execution_count": null,
   "metadata": {},
   "outputs": [],
   "source": []
  },
  {
   "cell_type": "code",
   "execution_count": null,
   "metadata": {},
   "outputs": [],
   "source": []
  },
  {
   "cell_type": "code",
   "execution_count": null,
   "metadata": {},
   "outputs": [],
   "source": []
  },
  {
   "cell_type": "code",
   "execution_count": null,
   "metadata": {},
   "outputs": [],
   "source": []
  },
  {
   "cell_type": "code",
   "execution_count": null,
   "metadata": {},
   "outputs": [],
   "source": []
  },
  {
   "cell_type": "code",
   "execution_count": null,
   "metadata": {},
   "outputs": [],
   "source": []
  },
  {
   "cell_type": "code",
   "execution_count": null,
   "metadata": {},
   "outputs": [],
   "source": []
  },
  {
   "cell_type": "code",
   "execution_count": null,
   "metadata": {},
   "outputs": [],
   "source": []
  },
  {
   "attachments": {},
   "cell_type": "markdown",
   "metadata": {},
   "source": [
    "# *End of Page*"
   ]
  }
 ],
 "metadata": {
  "kernelspec": {
   "display_name": "Python 3.9.13 64-bit",
   "language": "python",
   "name": "python3"
  },
  "language_info": {
   "codemirror_mode": {
    "name": "ipython",
    "version": 3
   },
   "file_extension": ".py",
   "mimetype": "text/x-python",
   "name": "python",
   "nbconvert_exporter": "python",
   "pygments_lexer": "ipython3",
   "version": "3.11.7"
  },
  "orig_nbformat": 4,
  "vscode": {
   "interpreter": {
    "hash": "11938c6bc6919ae2720b4d5011047913343b08a43b18698fd82dedb0d4417594"
   }
  }
 },
 "nbformat": 4,
 "nbformat_minor": 2
}
