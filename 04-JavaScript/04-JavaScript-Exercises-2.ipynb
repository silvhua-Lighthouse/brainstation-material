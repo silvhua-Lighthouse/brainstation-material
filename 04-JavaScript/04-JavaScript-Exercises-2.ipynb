{
 "cells": [
  {
   "attachments": {},
   "cell_type": "markdown",
   "metadata": {},
   "source": [
    "# Title\n",
    "[]()"
   ]
  },
  {
   "cell_type": "code",
   "execution_count": 4,
   "metadata": {},
   "outputs": [
    {
     "data": {
      "text/plain": [
       "'Mon May 20 2024 18:03:08 GMT-0700 (Pacific Daylight Time)'"
      ]
     },
     "execution_count": 4,
     "metadata": {},
     "output_type": "execute_result"
    }
   ],
   "source": [
    "Date(2023, 1, 11)"
   ]
  },
  {
   "cell_type": "code",
   "execution_count": 1,
   "metadata": {},
   "outputs": [],
   "source": [
    "const date1 = new Date(2023, 1, 11);\n",
    "const date2 = Date.now();\n",
    "const interval = date2 - date1"
   ]
  },
  {
   "cell_type": "code",
   "execution_count": 4,
   "metadata": {},
   "outputs": [
    {
     "data": {
      "text/plain": [
       "464.7122181018519"
      ]
     },
     "execution_count": 4,
     "metadata": {},
     "output_type": "execute_result"
    }
   ],
   "source": [
    "interval / (1000 * 60 * 60* 24) "
   ]
  },
  {
   "cell_type": "code",
   "execution_count": 1,
   "metadata": {},
   "outputs": [
    {
     "data": {
      "text/plain": [
       "40151240594"
      ]
     },
     "execution_count": 1,
     "metadata": {},
     "output_type": "execute_result"
    }
   ],
   "source": [
    "const date3 = new Date(2023, 1, 11);\n",
    "const date4 = Date.now();\n",
    "const interval2 = date4 - date3\n",
    "interval2"
   ]
  },
  {
   "cell_type": "markdown",
   "metadata": {},
   "source": [
    "# 2024-05-22 morning challenge\n",
    "Buggy version"
   ]
  },
  {
   "cell_type": "code",
   "execution_count": null,
   "metadata": {},
   "outputs": [],
   "source": [
    "function sumAllItems(array) {\n",
    "    if (array.length === 0) {\n",
    "        return [] // this should return zero\n",
    "    }\n",
    "    let sum = 1; // this should be zero\n",
    "    for (let i = 0; i < array.length; x++) { // `x++` should be `i++`\n",
    "        sum += sum[i]  // after `+=` it should be `array[i]` \n",
    "    }\n",
    "    console.log(sum) // \n",
    "}\n",
    "console.log(sumAllItems([1, 2, 3, 4]))\n",
    "// The function should `return sum` so that when function is called, it gets logged. \n",
    "// Currently, when the function is called by console.log, there will be an error"
   ]
  },
  {
   "cell_type": "code",
   "execution_count": 2,
   "metadata": {},
   "outputs": [
    {
     "name": "stdout",
     "output_type": "stream",
     "text": [
      "10\n"
     ]
    }
   ],
   "source": [
    "// my fixes\n",
    "\n",
    "function sumAllItems(array) {\n",
    "    if (array.length === 0) {\n",
    "        return 0;\n",
    "    }\n",
    "    let sum = 0; \n",
    "    for (let i = 0; i < array.length; i++) { \n",
    "        sum += array[i] \n",
    "    }\n",
    "    return sum\n",
    "}\n",
    "console.log(sumAllItems([1, 2, 3, 4]))"
   ]
  },
  {
   "cell_type": "markdown",
   "metadata": {},
   "source": [
    "#  morning challenge\n",
    "Task: dubug the code so it runs and successfully removes duplidates"
   ]
  },
  {
   "cell_type": "code",
   "execution_count": null,
   "metadata": {},
   "outputs": [],
   "source": [
    "let removeDuplicates = (array) => {\n",
    "    let newArray = {};\n",
    "    for (let i = 0; i < array.length; i++) {\n",
    "        if (newArray.indexOf(i) === false) {\n",
    "            newArray.push(i)\n",
    "        }\n",
    "    }\n",
    "    return array;\n",
    "}\n",
    "console.log(removeDuplicates([1, 1, 1, 2, 3, 4, 4, 4]))"
   ]
  },
  {
   "cell_type": "code",
   "execution_count": 1,
   "metadata": {},
   "outputs": [
    {
     "name": "stdout",
     "output_type": "stream",
     "text": [
      "[ 1, 2, 3, 4 ]\n"
     ]
    }
   ],
   "source": [
    "let removeDuplicates = (array) => {\n",
    "    let newArray = []; // changed {} to []\n",
    "    for (let i = 0; i < array.length; i++) {\n",
    "        // console.log(newArray.index)\n",
    "        // change false to -1 as that is what .indexOf returns if value is not found in array\n",
    "        if (newArray.indexOf(array[i]) === -1) { // change `i` to `array[i]`\n",
    "            newArray.push(array[i]); // change `i` to `array[i]`\n",
    "        } \n",
    "    }\n",
    "    return newArray; // change returned variable\n",
    "}\n",
    "console.log(removeDuplicates([1, 1, 1, 2, 3, 4, 4, 4]))"
   ]
  },
  {
   "cell_type": "code",
   "execution_count": 2,
   "metadata": {},
   "outputs": [
    {
     "data": {
      "text/plain": [
       "false"
      ]
     },
     "execution_count": 2,
     "metadata": {},
     "output_type": "execute_result"
    }
   ],
   "source": [
    "1 > 2 && 2 > 1;"
   ]
  },
  {
   "cell_type": "code",
   "execution_count": 3,
   "metadata": {},
   "outputs": [
    {
     "data": {
      "text/plain": [
       "0"
      ]
     },
     "execution_count": 3,
     "metadata": {},
     "output_type": "execute_result"
    }
   ],
   "source": [
    "1 > 2 & 2 > 1;"
   ]
  },
  {
   "cell_type": "code",
   "execution_count": null,
   "metadata": {},
   "outputs": [],
   "source": []
  },
  {
   "cell_type": "code",
   "execution_count": null,
   "metadata": {},
   "outputs": [],
   "source": []
  },
  {
   "cell_type": "code",
   "execution_count": null,
   "metadata": {},
   "outputs": [],
   "source": []
  },
  {
   "cell_type": "code",
   "execution_count": null,
   "metadata": {},
   "outputs": [],
   "source": []
  },
  {
   "cell_type": "code",
   "execution_count": null,
   "metadata": {},
   "outputs": [],
   "source": []
  },
  {
   "cell_type": "code",
   "execution_count": null,
   "metadata": {},
   "outputs": [],
   "source": []
  },
  {
   "cell_type": "code",
   "execution_count": null,
   "metadata": {},
   "outputs": [],
   "source": []
  },
  {
   "cell_type": "code",
   "execution_count": null,
   "metadata": {},
   "outputs": [],
   "source": []
  },
  {
   "cell_type": "code",
   "execution_count": null,
   "metadata": {},
   "outputs": [],
   "source": []
  },
  {
   "cell_type": "code",
   "execution_count": null,
   "metadata": {},
   "outputs": [],
   "source": []
  },
  {
   "cell_type": "code",
   "execution_count": null,
   "metadata": {},
   "outputs": [],
   "source": []
  },
  {
   "attachments": {},
   "cell_type": "markdown",
   "metadata": {},
   "source": [
    "# *End of Page*"
   ]
  }
 ],
 "metadata": {
  "kernelspec": {
   "display_name": "JavaScript (Node.js)",
   "language": "javascript",
   "name": "javascript"
  },
  "language_info": {
   "file_extension": ".js",
   "mimetype": "application/javascript",
   "name": "javascript",
   "version": "17.9.1"
  },
  "orig_nbformat": 4,
  "vscode": {
   "interpreter": {
    "hash": "11938c6bc6919ae2720b4d5011047913343b08a43b18698fd82dedb0d4417594"
   }
  }
 },
 "nbformat": 4,
 "nbformat_minor": 2
}
