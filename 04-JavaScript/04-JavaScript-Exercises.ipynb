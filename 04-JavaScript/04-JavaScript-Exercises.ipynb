{
 "cells": [
  {
   "attachments": {},
   "cell_type": "markdown",
   "metadata": {},
   "source": [
    "# Exercise: Arrays\n",
    "## Create Our Shopping List\n",
    "It's your turn to get the groceries and your roommate told you quickly over the phone what you need to pick up. Problem is you don't have an official list. Let's make one:\n",
    "\n",
    "First, create a variable called groceryList and make its value an array\n",
    "\n",
    "Hard code the following three items into your array:\n",
    "\n",
    "Apples\n",
    "Oranges\n",
    "Cereal\n",
    "Hint: What datatype should each item be?"
   ]
  },
  {
   "cell_type": "code",
   "execution_count": 2,
   "metadata": {},
   "outputs": [],
   "source": [
    "let groceryList = ['Apples', 'Oranges', 'Cereal'];\n"
   ]
  },
  {
   "cell_type": "markdown",
   "metadata": {},
   "source": [
    "## Shopping For An Item\n",
    "Now we want to access an item from our groceryList. Using your knowledge of array indexing, do the following:\n",
    "\n",
    "Print the first and last item in our groceryList\n",
    "When printing the last item from our list, you must index the list as if you do not know how many items are on our list."
   ]
  },
  {
   "cell_type": "code",
   "execution_count": 3,
   "metadata": {},
   "outputs": [
    {
     "name": "stdout",
     "output_type": "stream",
     "text": [
      "Apples Cereal\n"
     ]
    }
   ],
   "source": [
    "console.log(groceryList[0], groceryList[groceryList.length - 1])"
   ]
  },
  {
   "cell_type": "markdown",
   "metadata": {},
   "source": [
    "## Adding To Our Shopping List\n",
    "Your roommate just realized that the two of you have an emergency- there is no more toilet paper! Time to add that item to our list:\n",
    "\n",
    "You must use a method to add an item to the array:\n",
    "Note: You can not just create a new array with the updated list.\n",
    "Once the item has been added, console.log the groceryList, to see your now updated array."
   ]
  },
  {
   "cell_type": "code",
   "execution_count": 4,
   "metadata": {},
   "outputs": [
    {
     "name": "stdout",
     "output_type": "stream",
     "text": [
      "[ 'Apples', 'Oranges', 'Cereal', 'toilet paper' ]\n"
     ]
    }
   ],
   "source": [
    "groceryList.push('toilet paper')\n",
    "console.log(groceryList)"
   ]
  },
  {
   "cell_type": "markdown",
   "metadata": {},
   "source": [
    "## Payment\n",
    "Your roommate wants to pay for half of the items you picked up. He wants to know how many items are in your list so he can do the math.\n",
    "\n",
    "Using the appropriate method / syntax, determine the number of items in our groceryList\n",
    "Using that number, print in the console a message telling your roommate how many items are on our list."
   ]
  },
  {
   "cell_type": "code",
   "execution_count": 5,
   "metadata": {},
   "outputs": [
    {
     "name": "stdout",
     "output_type": "stream",
     "text": [
      "4\n"
     ]
    }
   ],
   "source": [
    "console.log(groceryList.length)"
   ]
  },
  {
   "cell_type": "markdown",
   "metadata": {},
   "source": [
    "# Functions Diving Deeper\n",
    "https://synapse.brainstation.io/software-engineering-bootcamp/student-content/1c01aa56-8fb1-539d-a9a7-cd77ef937aa6\n",
    "\n",
    "Part 1\n",
    "Create a function called userGreeting that takes in two string parameters and returns a string. The first string will be a first name and the second parameter will be a last name. Return a string that is a greeting that contains the first and last name.\n",
    "Example greeting: \"Hi [first_name] [last_name]! What a beautiful day.\""
   ]
  },
  {
   "cell_type": "code",
   "execution_count": 1,
   "metadata": {},
   "outputs": [
    {
     "data": {
      "text/plain": [
       "'Hi, Silvia Hua'"
      ]
     },
     "execution_count": 1,
     "metadata": {},
     "output_type": "execute_result"
    }
   ],
   "source": [
    "function userGreeting(firstName, lastName) {\n",
    "    return `Hi, ${firstName} ${lastName}`\n",
    "}\n",
    "\n",
    "userGreeting('Silvia', 'Hua')"
   ]
  },
  {
   "cell_type": "markdown",
   "metadata": {},
   "source": [
    "Part 2\n",
    "Create a function that accepts an array of words as a parameter. Console.log the following statistics:\n",
    "How many words in total were in the array?\n",
    "How many words have greater than 5 letters?\n",
    "How many words many words have 5 or fewer letters?\n",
    " Bonus: Return an object from the function that contains the three statistics as properties. "
   ]
  },
  {
   "cell_type": "code",
   "execution_count": 1,
   "metadata": {},
   "outputs": [
    {
     "name": "stdout",
     "output_type": "stream",
     "text": [
      "Total words: 8\n",
      "Words with >5 letters: 2\n",
      "Words with <=5 letters: 6\n"
     ]
    }
   ],
   "source": [
    "function arrayStats(arrayOfWords) {\n",
    "    console.log(`Total words: ${arrayOfWords.length}`);\n",
    "    moreThan5Letters = [];\n",
    "    lessThan5Letters = [];\n",
    "    for (i=0; i < arrayOfWords.length; i++) {\n",
    "        if (arrayOfWords[i].length <=5) {\n",
    "            lessThan5Letters.push(arrayOfWords[i]);\n",
    "        } else {\n",
    "            moreThan5Letters.push(arrayOfWords[i]);\n",
    "        }\n",
    "    }\n",
    "    console.log(`Words with >5 letters: ${moreThan5Letters.length}`)\n",
    "    console.log(`Words with <=5 letters: ${lessThan5Letters.length}`)\n",
    "}\n",
    "\n",
    "const arrayOfWords1 = ['the', 'tall', 'foxes', 'decided', 'to', 'continue', 'to', 'sleep']\n",
    "arrayStats(arrayOfWords1)"
   ]
  },
  {
   "cell_type": "markdown",
   "metadata": {},
   "source": [
    "Part 3\n",
    "Create a function that will return a right angle triangle similar to the one below. This function will take in a number parameter that will determine the height (number of rows)."
   ]
  },
  {
   "cell_type": "code",
   "execution_count": 3,
   "metadata": {},
   "outputs": [
    {
     "name": "stdout",
     "output_type": "stream",
     "text": [
      "##\n"
     ]
    }
   ],
   "source": [
    "console.log('#' + `#`)"
   ]
  },
  {
   "cell_type": "code",
   "execution_count": 4,
   "metadata": {},
   "outputs": [
    {
     "data": {
      "text/plain": [
       "'########'"
      ]
     },
     "execution_count": 4,
     "metadata": {},
     "output_type": "execute_result"
    }
   ],
   "source": [
    "'#'.repeat(8)"
   ]
  },
  {
   "cell_type": "code",
   "execution_count": 4,
   "metadata": {},
   "outputs": [
    {
     "name": "stdout",
     "output_type": "stream",
     "text": [
      "\n",
      "\n",
      "#\n",
      "##\n",
      "###\n",
      "####\n",
      "#####\n",
      "######\n",
      "#######\n",
      "########\n"
     ]
    }
   ],
   "source": [
    "function triangle(nRows) {\n",
    "    let triangle = '';\n",
    "    for (i=0; i <= nRows; i++) {\n",
    "        triangle = `${triangle}\\n${'#'.repeat(i)}`;\n",
    "    }\n",
    "    return triangle;\n",
    "}\n",
    "\n",
    "console.log(triangle(8))"
   ]
  },
  {
   "cell_type": "markdown",
   "metadata": {},
   "source": [
    "Part 4\n",
    "Create a function that announces rock, paper, scissors games. The function must take two string parameters and return a string. The first string is player one's choice and the second string is player two's choice. Return a string announcing the result of the match."
   ]
  },
  {
   "cell_type": "code",
   "execution_count": 5,
   "metadata": {},
   "outputs": [
    {
     "name": "stdout",
     "output_type": "stream",
     "text": [
      "Player 2 wins.\n",
      "Player 2 wins\n",
      "Player 2 wins\n",
      "Tie!\n",
      "Player 1 wins\n"
     ]
    }
   ],
   "source": [
    "function rockPaperScissors(p1choice, p2choice) {\n",
    "    if (p1choice === p2choice) {\n",
    "        console.log('Tie!');\n",
    "    } else if (p1choice === 'rock') {\n",
    "        if (p2choice === 'paper') {\n",
    "            console.log('Player 2 wins.')\n",
    "        } else {\n",
    "            console.log('Player 1 wins')\n",
    "        }\n",
    "    } else if (p1choice === 'paper') {\n",
    "        if (p2choice === 'scissors') {\n",
    "            console.log('Player 2 wins') \n",
    "        } else {\n",
    "            console.log('Player 1 wins')\n",
    "        }\n",
    "    } else if (p1choice === 'scissors') {\n",
    "        if (p2choice === 'rock') {\n",
    "            console.log('Player 2 wins') \n",
    "        } else {\n",
    "            console.log('Player 1 wins')\n",
    "        }\n",
    "    } else {\n",
    "        console.log('Invalid input.')\n",
    "    }\n",
    "}\n",
    "\n",
    "arrayOfOptions = [\n",
    "    ['rock', 'paper'], // Player 2\n",
    "    ['paper', 'scissors'], // player 2\n",
    "    ['scissors', 'rock'], //player 2\n",
    "    ['rock', 'rock'], //tie\n",
    "    ['rock', 'scissors'] //player 1\n",
    "]\n",
    "\n",
    "for (i=0; i < arrayOfOptions.length; i++) {\n",
    "    p1choice = arrayOfOptions[i][0];\n",
    "    p2choice = arrayOfOptions[i][1];\n",
    "    rockPaperScissors(p1choice, p2choice)\n",
    "}"
   ]
  },
  {
   "cell_type": "code",
   "execution_count": null,
   "metadata": {},
   "outputs": [],
   "source": []
  },
  {
   "cell_type": "code",
   "execution_count": null,
   "metadata": {},
   "outputs": [],
   "source": []
  },
  {
   "cell_type": "code",
   "execution_count": null,
   "metadata": {},
   "outputs": [],
   "source": []
  },
  {
   "cell_type": "code",
   "execution_count": null,
   "metadata": {},
   "outputs": [],
   "source": []
  },
  {
   "cell_type": "code",
   "execution_count": null,
   "metadata": {},
   "outputs": [],
   "source": []
  },
  {
   "cell_type": "code",
   "execution_count": null,
   "metadata": {},
   "outputs": [],
   "source": []
  },
  {
   "cell_type": "code",
   "execution_count": null,
   "metadata": {},
   "outputs": [],
   "source": []
  },
  {
   "cell_type": "code",
   "execution_count": null,
   "metadata": {},
   "outputs": [],
   "source": []
  },
  {
   "cell_type": "code",
   "execution_count": null,
   "metadata": {},
   "outputs": [],
   "source": []
  },
  {
   "cell_type": "code",
   "execution_count": null,
   "metadata": {},
   "outputs": [],
   "source": []
  },
  {
   "cell_type": "code",
   "execution_count": null,
   "metadata": {},
   "outputs": [],
   "source": []
  },
  {
   "cell_type": "code",
   "execution_count": null,
   "metadata": {},
   "outputs": [],
   "source": []
  },
  {
   "cell_type": "code",
   "execution_count": null,
   "metadata": {},
   "outputs": [],
   "source": []
  },
  {
   "attachments": {},
   "cell_type": "markdown",
   "metadata": {},
   "source": [
    "# *End of Page*"
   ]
  }
 ],
 "metadata": {
  "kernelspec": {
   "display_name": "JavaScript (Node.js)",
   "language": "javascript",
   "name": "javascript"
  },
  "language_info": {
   "file_extension": ".js",
   "mimetype": "application/javascript",
   "name": "javascript",
   "version": "17.9.1"
  },
  "orig_nbformat": 4,
  "vscode": {
   "interpreter": {
    "hash": "11938c6bc6919ae2720b4d5011047913343b08a43b18698fd82dedb0d4417594"
   }
  }
 },
 "nbformat": 4,
 "nbformat_minor": 2
}
