{
 "cells": [
  {
   "attachments": {},
   "cell_type": "markdown",
   "metadata": {},
   "source": [
    "# Exercise: Arrays\n",
    "## Create Our Shopping List\n",
    "It's your turn to get the groceries and your roommate told you quickly over the phone what you need to pick up. Problem is you don't have an official list. Let's make one:\n",
    "\n",
    "First, create a variable called groceryList and make its value an array\n",
    "\n",
    "Hard code the following three items into your array:\n",
    "\n",
    "Apples\n",
    "Oranges\n",
    "Cereal\n",
    "Hint: What datatype should each item be?"
   ]
  },
  {
   "cell_type": "code",
   "execution_count": 2,
   "metadata": {},
   "outputs": [],
   "source": [
    "let groceryList = ['Apples', 'Oranges', 'Cereal'];\n"
   ]
  },
  {
   "cell_type": "markdown",
   "metadata": {},
   "source": [
    "## Shopping For An Item\n",
    "Now we want to access an item from our groceryList. Using your knowledge of array indexing, do the following:\n",
    "\n",
    "Print the first and last item in our groceryList\n",
    "When printing the last item from our list, you must index the list as if you do not know how many items are on our list."
   ]
  },
  {
   "cell_type": "code",
   "execution_count": 3,
   "metadata": {},
   "outputs": [
    {
     "name": "stdout",
     "output_type": "stream",
     "text": [
      "Apples Cereal\n"
     ]
    }
   ],
   "source": [
    "console.log(groceryList[0], groceryList[groceryList.length - 1])"
   ]
  },
  {
   "cell_type": "markdown",
   "metadata": {},
   "source": [
    "## Adding To Our Shopping List\n",
    "Your roommate just realized that the two of you have an emergency- there is no more toilet paper! Time to add that item to our list:\n",
    "\n",
    "You must use a method to add an item to the array:\n",
    "Note: You can not just create a new array with the updated list.\n",
    "Once the item has been added, console.log the groceryList, to see your now updated array."
   ]
  },
  {
   "cell_type": "code",
   "execution_count": 4,
   "metadata": {},
   "outputs": [
    {
     "name": "stdout",
     "output_type": "stream",
     "text": [
      "[ 'Apples', 'Oranges', 'Cereal', 'toilet paper' ]\n"
     ]
    }
   ],
   "source": [
    "groceryList.push('toilet paper')\n",
    "console.log(groceryList)"
   ]
  },
  {
   "cell_type": "markdown",
   "metadata": {},
   "source": [
    "## Payment\n",
    "Your roommate wants to pay for half of the items you picked up. He wants to know how many items are in your list so he can do the math.\n",
    "\n",
    "Using the appropriate method / syntax, determine the number of items in our groceryList\n",
    "Using that number, print in the console a message telling your roommate how many items are on our list."
   ]
  },
  {
   "cell_type": "code",
   "execution_count": 5,
   "metadata": {},
   "outputs": [
    {
     "name": "stdout",
     "output_type": "stream",
     "text": [
      "4\n"
     ]
    }
   ],
   "source": [
    "console.log(groceryList.length)"
   ]
  },
  {
   "cell_type": "markdown",
   "metadata": {},
   "source": [
    "# Functions Diving Deeper\n",
    "https://synapse.brainstation.io/software-engineering-bootcamp/student-content/1c01aa56-8fb1-539d-a9a7-cd77ef937aa6\n",
    "\n",
    "Part 1\n",
    "Create a function called userGreeting that takes in two string parameters and returns a string. The first string will be a first name and the second parameter will be a last name. Return a string that is a greeting that contains the first and last name.\n",
    "Example greeting: \"Hi [first_name] [last_name]! What a beautiful day.\""
   ]
  },
  {
   "cell_type": "code",
   "execution_count": 1,
   "metadata": {},
   "outputs": [
    {
     "data": {
      "text/plain": [
       "'Hi, Silvia Hua'"
      ]
     },
     "execution_count": 1,
     "metadata": {},
     "output_type": "execute_result"
    }
   ],
   "source": [
    "function userGreeting(firstName, lastName) {\n",
    "    return `Hi, ${firstName} ${lastName}`\n",
    "}\n",
    "\n",
    "userGreeting('Silvia', 'Hua')"
   ]
  },
  {
   "cell_type": "markdown",
   "metadata": {},
   "source": [
    "Part 2\n",
    "Create a function that accepts an array of words as a parameter. Console.log the following statistics:\n",
    "How many words in total were in the array?\n",
    "How many words have greater than 5 letters?\n",
    "How many words many words have 5 or fewer letters?\n",
    " Bonus: Return an object from the function that contains the three statistics as properties. "
   ]
  },
  {
   "cell_type": "code",
   "execution_count": 1,
   "metadata": {},
   "outputs": [
    {
     "name": "stdout",
     "output_type": "stream",
     "text": [
      "Total words: 8\n",
      "Words with >5 letters: 2\n",
      "Words with <=5 letters: 6\n"
     ]
    }
   ],
   "source": [
    "function arrayStats(arrayOfWords) {\n",
    "    console.log(`Total words: ${arrayOfWords.length}`);\n",
    "    moreThan5Letters = [];\n",
    "    lessThan5Letters = [];\n",
    "    for (i=0; i < arrayOfWords.length; i++) {\n",
    "        if (arrayOfWords[i].length <=5) {\n",
    "            lessThan5Letters.push(arrayOfWords[i]);\n",
    "        } else {\n",
    "            moreThan5Letters.push(arrayOfWords[i]);\n",
    "        }\n",
    "    }\n",
    "    console.log(`Words with >5 letters: ${moreThan5Letters.length}`)\n",
    "    console.log(`Words with <=5 letters: ${lessThan5Letters.length}`)\n",
    "}\n",
    "\n",
    "const arrayOfWords1 = ['the', 'tall', 'foxes', 'decided', 'to', 'continue', 'to', 'sleep']\n",
    "arrayStats(arrayOfWords1)"
   ]
  },
  {
   "cell_type": "markdown",
   "metadata": {},
   "source": [
    "Part 3\n",
    "Create a function that will return a right angle triangle similar to the one below. This function will take in a number parameter that will determine the height (number of rows)."
   ]
  },
  {
   "cell_type": "code",
   "execution_count": 3,
   "metadata": {},
   "outputs": [
    {
     "name": "stdout",
     "output_type": "stream",
     "text": [
      "##\n"
     ]
    }
   ],
   "source": [
    "console.log('#' + `#`)"
   ]
  },
  {
   "cell_type": "code",
   "execution_count": 4,
   "metadata": {},
   "outputs": [
    {
     "data": {
      "text/plain": [
       "'########'"
      ]
     },
     "execution_count": 4,
     "metadata": {},
     "output_type": "execute_result"
    }
   ],
   "source": [
    "'#'.repeat(8)"
   ]
  },
  {
   "cell_type": "code",
   "execution_count": 4,
   "metadata": {},
   "outputs": [
    {
     "name": "stdout",
     "output_type": "stream",
     "text": [
      "\n",
      "\n",
      "#\n",
      "##\n",
      "###\n",
      "####\n",
      "#####\n",
      "######\n",
      "#######\n",
      "########\n"
     ]
    }
   ],
   "source": [
    "function triangle(nRows) {\n",
    "    let triangle = '';\n",
    "    for (i=0; i <= nRows; i++) {\n",
    "        triangle = `${triangle}\\n${'#'.repeat(i)}`;\n",
    "    }\n",
    "    return triangle;\n",
    "}\n",
    "\n",
    "console.log(triangle(8))"
   ]
  },
  {
   "cell_type": "markdown",
   "metadata": {},
   "source": [
    "Part 4\n",
    "Create a function that announces rock, paper, scissors games. The function must take two string parameters and return a string. The first string is player one's choice and the second string is player two's choice. Return a string announcing the result of the match."
   ]
  },
  {
   "cell_type": "code",
   "execution_count": 5,
   "metadata": {},
   "outputs": [
    {
     "name": "stdout",
     "output_type": "stream",
     "text": [
      "Player 2 wins.\n",
      "Player 2 wins\n",
      "Player 2 wins\n",
      "Tie!\n",
      "Player 1 wins\n"
     ]
    }
   ],
   "source": [
    "function rockPaperScissors(p1choice, p2choice) {\n",
    "    if (p1choice === p2choice) {\n",
    "        console.log('Tie!');\n",
    "    } else if (p1choice === 'rock') {\n",
    "        if (p2choice === 'paper') {\n",
    "            console.log('Player 2 wins.')\n",
    "        } else {\n",
    "            console.log('Player 1 wins')\n",
    "        }\n",
    "    } else if (p1choice === 'paper') {\n",
    "        if (p2choice === 'scissors') {\n",
    "            console.log('Player 2 wins') \n",
    "        } else {\n",
    "            console.log('Player 1 wins')\n",
    "        }\n",
    "    } else if (p1choice === 'scissors') {\n",
    "        if (p2choice === 'rock') {\n",
    "            console.log('Player 2 wins') \n",
    "        } else {\n",
    "            console.log('Player 1 wins')\n",
    "        }\n",
    "    } else {\n",
    "        console.log('Invalid input.')\n",
    "    }\n",
    "}\n",
    "\n",
    "arrayOfOptions = [\n",
    "    ['rock', 'paper'], // Player 2\n",
    "    ['paper', 'scissors'], // player 2\n",
    "    ['scissors', 'rock'], //player 2\n",
    "    ['rock', 'rock'], //tie\n",
    "    ['rock', 'scissors'] //player 1\n",
    "]\n",
    "\n",
    "for (i=0; i < arrayOfOptions.length; i++) {\n",
    "    p1choice = arrayOfOptions[i][0];\n",
    "    p2choice = arrayOfOptions[i][1];\n",
    "    rockPaperScissors(p1choice, p2choice)\n",
    "}"
   ]
  },
  {
   "cell_type": "markdown",
   "metadata": {},
   "source": [
    "# Lab: Control Flow\n",
    "\n",
    "Create a variable called time\n",
    "Write an if/else block that...\n",
    "Logs You're early! if time is less than 10\n",
    "Logs You're on-time! if time is exactly 10\n",
    "Logs You're late! for any other time"
   ]
  },
  {
   "cell_type": "code",
   "execution_count": null,
   "metadata": {},
   "outputs": [],
   "source": [
    "let time;\n",
    "\n",
    "function myfunction(time) {\n",
    "    if (time < 10) {\n",
    "        console.log(\"You're early\")\n",
    "    } else if (time === 10) {\n",
    "        console.log(\"You're on time\")\n",
    "    } else {\n",
    "        console.log(\"You're lage\")\n",
    "    }\n",
    "}\n"
   ]
  },
  {
   "cell_type": "markdown",
   "metadata": {},
   "source": [
    "Create a variable called timeOfWeek\n",
    "You can expect that it will either hold the value weekday or weekend"
   ]
  },
  {
   "cell_type": "code",
   "execution_count": null,
   "metadata": {},
   "outputs": [],
   "source": [
    "let timeOfWeek;\n"
   ]
  },
  {
   "cell_type": "markdown",
   "metadata": {},
   "source": [
    "Modify your if/else block to only log the above messages if it is a weekday\n",
    "Otherwise, log You shouldn't be in class!"
   ]
  },
  {
   "cell_type": "code",
   "execution_count": 5,
   "metadata": {},
   "outputs": [],
   "source": [
    "function myfunction(time, timeOfWeek) {\n",
    "    if (timeOfWeek === 'weekday') {\n",
    "        if (time < 10) {\n",
    "            console.log(\"You're early\")\n",
    "        } else if (time === 10) {\n",
    "            console.log(\"You're on time\")\n",
    "        } else {\n",
    "            console.log(\"You're late\")\n",
    "        }\n",
    "    } else {\n",
    "        console.log(\"You shouldn't be in class\")\n",
    "    }\n",
    "}\n",
    "\n"
   ]
  },
  {
   "cell_type": "markdown",
   "metadata": {},
   "source": [
    "Come up with at least three different times to test your code with and try them out"
   ]
  },
  {
   "cell_type": "code",
   "execution_count": 6,
   "metadata": {},
   "outputs": [
    {
     "name": "stdout",
     "output_type": "stream",
     "text": [
      "You're early\n",
      "You're late\n",
      "You shouldn't be in class\n"
     ]
    }
   ],
   "source": [
    "\n",
    "times = [\n",
    "    [9, 'weekday'],\n",
    "    [14, 'weekday'],\n",
    "    [8, 'weekend']\n",
    "]\n",
    "\n",
    "for (i=0; i < times.length; i++) {\n",
    "    time = times[i][0];\n",
    "    timeOfWeek = times[i][1];\n",
    "    myfunction(time, timeOfWeek);\n",
    "}"
   ]
  },
  {
   "cell_type": "markdown",
   "metadata": {},
   "source": [
    "## Switch\n",
    "Create a variable called facialExpression\n",
    "\n",
    "Write a switch statement that...\n",
    "Logs You look happy if facialExpression is \"smiling\"\n",
    "Logs You look sad if facialExpression is \"frowning\"\n",
    "Logs You look angry if facialExpression is \"scowl\"\n",
    "Logs I don't know for any other value\n",
    "What happens when you forget to include break statements in each case?"
   ]
  },
  {
   "cell_type": "code",
   "execution_count": 1,
   "metadata": {},
   "outputs": [
    {
     "name": "stdout",
     "output_type": "stream",
     "text": [
      "You look happy\n",
      "You look sad\n",
      "You look angry\n",
      "I don't know\n"
     ]
    }
   ],
   "source": [
    "function myFunction3(facialExpression) {\n",
    "    switch(facialExpression) {\n",
    "        case 'smiling':\n",
    "            console.log('You look happy');\n",
    "            break;\n",
    "        case 'frowning':\n",
    "            console.log('You look sad');\n",
    "            break;\n",
    "        case 'scowl':\n",
    "            console.log('You look angry');\n",
    "            break;\n",
    "        default:\n",
    "            console.log(\"I don't know\");\n",
    "    }\n",
    "}\n",
    "let facialExpressionArray = [\n",
    "    'smiling',\n",
    "    'frowning',\n",
    "    'scowl',\n",
    "    'whatevs'\n",
    "]\n",
    "\n",
    "for (i=0; i < facialExpressionArray.length; i++) {\n",
    "    myFunction3(facialExpressionArray[i]);\n",
    "}"
   ]
  },
  {
   "cell_type": "code",
   "execution_count": 2,
   "metadata": {},
   "outputs": [
    {
     "name": "stdout",
     "output_type": "stream",
     "text": [
      "You look happy\n",
      "You look sad\n",
      "You look angry\n",
      "I don't know\n",
      "You look sad\n",
      "You look angry\n",
      "I don't know\n",
      "You look angry\n",
      "I don't know\n",
      "I don't know\n"
     ]
    }
   ],
   "source": [
    "function myFunction4(facialExpression) {\n",
    "    switch(facialExpression) {\n",
    "        case 'smiling':\n",
    "            console.log('You look happy');\n",
    "        case 'frowning':\n",
    "            console.log('You look sad');\n",
    "        case 'scowl':\n",
    "            console.log('You look angry');\n",
    "        default:\n",
    "            console.log(\"I don't know\");\n",
    "    }\n",
    "}\n",
    "for (i=0; i < facialExpressionArray.length; i++) {\n",
    "    myFunction4(facialExpressionArray[i]);\n",
    "}"
   ]
  },
  {
   "cell_type": "markdown",
   "metadata": {},
   "source": [
    "For Loops\n",
    "Create an array of strings called famousCats with at least three entries\n",
    "You can use \"garfield\", \"felix\", \"meowth\"\n",
    "Write a for loop that prints each cat to the console"
   ]
  },
  {
   "cell_type": "code",
   "execution_count": 1,
   "metadata": {},
   "outputs": [],
   "source": [
    "let famousCats = [\"garfield\", \"felix\", \"meowth\"];"
   ]
  },
  {
   "cell_type": "code",
   "execution_count": 3,
   "metadata": {},
   "outputs": [
    {
     "name": "stdout",
     "output_type": "stream",
     "text": [
      "garfield\n",
      "felix\n",
      "meowth\n"
     ]
    }
   ],
   "source": [
    "\n",
    "for (i=0; i < famousCats.length; i++) {\n",
    "    console.log(famousCats[i]);\n",
    "}"
   ]
  },
  {
   "cell_type": "markdown",
   "metadata": {},
   "source": [
    "Write a for loop that prints each cat except the first to the console"
   ]
  },
  {
   "cell_type": "code",
   "execution_count": 4,
   "metadata": {},
   "outputs": [
    {
     "name": "stdout",
     "output_type": "stream",
     "text": [
      "felix\n",
      "meowth\n"
     ]
    }
   ],
   "source": [
    "for (i=1; i < famousCats.length; i++) {\n",
    "    console.log(famousCats[i]);\n",
    "}"
   ]
  },
  {
   "cell_type": "markdown",
   "metadata": {},
   "source": [
    "Write a for loop that prints each cat to the console in reverse order"
   ]
  },
  {
   "cell_type": "code",
   "execution_count": 2,
   "metadata": {},
   "outputs": [
    {
     "name": "stdout",
     "output_type": "stream",
     "text": [
      "undefined\n",
      "meowth\n",
      "felix\n"
     ]
    }
   ],
   "source": [
    "for (i= famousCats.length; i > 0; i--) {\n",
    "    console.log(famousCats[i]);\n",
    "}"
   ]
  },
  {
   "cell_type": "markdown",
   "metadata": {},
   "source": [
    "Rewrite the previous exercise using a while loop"
   ]
  },
  {
   "cell_type": "code",
   "execution_count": 3,
   "metadata": {},
   "outputs": [
    {
     "name": "stdout",
     "output_type": "stream",
     "text": [
      "garfield\n",
      "felix\n",
      "meowth\n"
     ]
    },
    {
     "data": {
      "text/plain": [
       "2"
      ]
     },
     "execution_count": 3,
     "metadata": {},
     "output_type": "execute_result"
    }
   ],
   "source": [
    "let i = 0;\n",
    "while (i < famousCats.length) {\n",
    "    console.log(famousCats[i]);\n",
    "    i++;\n",
    "}"
   ]
  },
  {
   "cell_type": "markdown",
   "metadata": {},
   "source": [
    "Use your famousCats array from the previous exercise\n",
    "Create a new variable called myFavorite that holds the name of your favorite famous cat"
   ]
  },
  {
   "cell_type": "code",
   "execution_count": 2,
   "metadata": {},
   "outputs": [
    {
     "name": "stdout",
     "output_type": "stream",
     "text": [
      "Kitty?\n",
      "Kitty?\n",
      "Kitty?\n",
      "There you are!\n"
     ]
    }
   ],
   "source": [
    "myFave = 'cuteCat'\n",
    "famousCats.push(myFave);\n",
    "\n",
    "for (i=0; i < famousCats.length; i++) {\n",
    "    currentCat = famousCats[i];\n",
    "    if (currentCat === myFave) {\n",
    "        console.log('There you are!')\n",
    "    } else {\n",
    "        console.log('Kitty?')\n",
    "    }\n",
    "}"
   ]
  },
  {
   "cell_type": "code",
   "execution_count": 3,
   "metadata": {},
   "outputs": [
    {
     "name": "stdout",
     "output_type": "stream",
     "text": [
      "[ 'cuteCat', 'garfield', 'felix', 'meowth' ]\n"
     ]
    }
   ],
   "source": [
    "famousCats.pop();\n",
    "famousCats.unshift(myFave);\n",
    "console.log(famousCats);"
   ]
  },
  {
   "cell_type": "code",
   "execution_count": 4,
   "metadata": {},
   "outputs": [
    {
     "name": "stdout",
     "output_type": "stream",
     "text": [
      "There you are!\n",
      "Kitty?\n",
      "Kitty?\n",
      "Kitty?\n"
     ]
    }
   ],
   "source": [
    "for (i=0; i < famousCats.length; i++) {\n",
    "    currentCat = famousCats[i];\n",
    "    if (currentCat === myFave) {\n",
    "        console.log('There you are!')\n",
    "    } else {\n",
    "        console.log('Kitty?')\n",
    "    }\n",
    "}"
   ]
  },
  {
   "cell_type": "code",
   "execution_count": 5,
   "metadata": {},
   "outputs": [
    {
     "name": "stdout",
     "output_type": "stream",
     "text": [
      "[ 'garfield', 'felix', 'meowth' ]\n"
     ]
    }
   ],
   "source": [
    "famousCats.shift()\n",
    "console.log(famousCats);"
   ]
  },
  {
   "cell_type": "code",
   "execution_count": 6,
   "metadata": {},
   "outputs": [
    {
     "name": "stdout",
     "output_type": "stream",
     "text": [
      "[ 'garfield', 'felix', 'meowth', 'felix' ]\n"
     ]
    }
   ],
   "source": [
    "famousCats.push('cuteCat');\n",
    "famousCats.pop('felix');\n",
    "famousCats.push('felix');\n",
    "console.log(famousCats);"
   ]
  },
  {
   "cell_type": "code",
   "execution_count": 7,
   "metadata": {},
   "outputs": [
    {
     "name": "stdout",
     "output_type": "stream",
     "text": [
      "[ 'garfield', 'felix', 'meowth' ]\n"
     ]
    }
   ],
   "source": [
    "famousCats.pop('felix');\n",
    "console.log(famousCats);"
   ]
  },
  {
   "cell_type": "code",
   "execution_count": 8,
   "metadata": {},
   "outputs": [
    {
     "name": "stdout",
     "output_type": "stream",
     "text": [
      "[ 'garfield', 'felix', 'meowth', 'cuteCat', 'another cat' ]\n"
     ]
    }
   ],
   "source": [
    "famousCats.push('cuteCat', 'another cat');\n",
    "console.log(famousCats);"
   ]
  },
  {
   "cell_type": "code",
   "execution_count": 1,
   "metadata": {},
   "outputs": [],
   "source": [
    "let famousCats = [ 'garfield', 'felix', 'meowth', 'cuteCat', 'another cat' ]\n",
    "let myFave = 'cuteCat';"
   ]
  },
  {
   "cell_type": "code",
   "execution_count": 4,
   "metadata": {},
   "outputs": [
    {
     "name": "stdout",
     "output_type": "stream",
     "text": [
      "Kitty?\n",
      "Kitty?\n",
      "Kitty?\n",
      "There you are!\n"
     ]
    }
   ],
   "source": [
    "i = 0;\n",
    "currentCat = famousCats[i];\n",
    "while (currentCat !== myFave) {\n",
    "    console.log('Kitty?');\n",
    "    i++;\n",
    "    currentCat = famousCats[i];\n",
    "}\n",
    "console.log('There you are!');\n"
   ]
  },
  {
   "cell_type": "markdown",
   "metadata": {},
   "source": [
    "# 2024-05-15 lecture"
   ]
  },
  {
   "cell_type": "code",
   "execution_count": 5,
   "metadata": {},
   "outputs": [
    {
     "name": "stdout",
     "output_type": "stream",
     "text": [
      "63\n"
     ]
    }
   ],
   "source": [
    "function calcArea(length, width) {\n",
    "    return length * width\n",
    "}\n",
    "\n",
    "console.log(calcArea(7, 9))"
   ]
  },
  {
   "cell_type": "code",
   "execution_count": 6,
   "metadata": {},
   "outputs": [
    {
     "name": "stdout",
     "output_type": "stream",
     "text": [
      "108\n"
     ]
    }
   ],
   "source": [
    "let calcArea2 = function (length, width) {\n",
    "    return length * width\n",
    "}\n",
    "console.log(calcArea2(9, 12))"
   ]
  },
  {
   "cell_type": "markdown",
   "metadata": {},
   "source": [
    "# Lab: Introduction to Functions\n",
    "\n",
    "Write a function called avg that...\n",
    "\n",
    "Takes 3 numbers as parameters\n",
    "Computes the average of the 3 numbers\n",
    "Returns that average"
   ]
  },
  {
   "cell_type": "code",
   "execution_count": 8,
   "metadata": {},
   "outputs": [
    {
     "name": "stdout",
     "output_type": "stream",
     "text": [
      "4\n"
     ]
    }
   ],
   "source": [
    "function avg(num1, num2, num3) {\n",
    "    let average = (num1 + num2 + num3)/3;\n",
    "    return average;\n",
    "}\n",
    "let num1 = 3;\n",
    "let num2 = 4; \n",
    "let num3 = 5;\n",
    "let result = avg(num1, num2, num3);\n",
    "console.log(result);"
   ]
  },
  {
   "cell_type": "code",
   "execution_count": 9,
   "metadata": {},
   "outputs": [
    {
     "name": "stdout",
     "output_type": "stream",
     "text": [
      "7\n"
     ]
    }
   ],
   "source": [
    "result = (5, 6, 7);\n",
    "console.log(result);"
   ]
  },
  {
   "cell_type": "markdown",
   "metadata": {},
   "source": [
    "Write a function called isEqual that...\n",
    "\n",
    "Takes two strings as parameters\n",
    "Compares the two strings for equivalence\n",
    "Returns true if they are the same string, false if they are not the same string"
   ]
  },
  {
   "cell_type": "code",
   "execution_count": null,
   "metadata": {},
   "outputs": [],
   "source": [
    "function isEqual(string1, string2) {\n",
    "    if (string1 === string2) {\n",
    "        return true;\n",
    "    } else {\n",
    "        return false;\n",
    "    }\n",
    "}"
   ]
  },
  {
   "cell_type": "code",
   "execution_count": 1,
   "metadata": {},
   "outputs": [],
   "source": [
    "function isEqual(string1, string2) {\n",
    "    result = string1 === string2;\n",
    "    return result\n",
    "}\n"
   ]
  },
  {
   "cell_type": "markdown",
   "metadata": {},
   "source": [
    "Test your function by doing the following:\n",
    "\n",
    "Create a test-set of strings that should return true\n",
    "Create a test-set of strings that should return false\n",
    "Store the value returned from your function as a variable\n",
    "Print the returned value, stored in a variable, using console.log"
   ]
  },
  {
   "cell_type": "code",
   "execution_count": 2,
   "metadata": {},
   "outputs": [
    {
     "name": "stdout",
     "output_type": "stream",
     "text": [
      "true\n"
     ]
    }
   ],
   "source": [
    "let result1 = isEqual('cat', 'cat');\n",
    "console.log(result1)"
   ]
  },
  {
   "cell_type": "code",
   "execution_count": 3,
   "metadata": {},
   "outputs": [
    {
     "name": "stdout",
     "output_type": "stream",
     "text": [
      "false\n"
     ]
    }
   ],
   "source": [
    "let result2 = isEqual('cat', 'dog');\n",
    "console.log(result2)"
   ]
  },
  {
   "cell_type": "markdown",
   "metadata": {},
   "source": [
    "Write a function called output that...\n",
    "\n",
    "Takes one parameter\n",
    "console.logs the passed parameter\n",
    "Returns nothing\n",
    "Test your function by checking the chrome console for your output"
   ]
  },
  {
   "cell_type": "code",
   "execution_count": null,
   "metadata": {},
   "outputs": [],
   "source": [
    "function output(param) {\n",
    "    console.log(param);\n",
    "}\n",
    "output(8)"
   ]
  },
  {
   "cell_type": "markdown",
   "metadata": {},
   "source": [
    "# Lab: Advanced Functions"
   ]
  },
  {
   "cell_type": "code",
   "execution_count": 3,
   "metadata": {},
   "outputs": [
    {
     "name": "stdout",
     "output_type": "stream",
     "text": [
      "Your name is: Silvia Hua\n"
     ]
    }
   ],
   "source": [
    "function outputName(nameToPrint) {\n",
    "    let finalString = `Your name is: ${nameToPrint}`;\n",
    "    console.log(finalString);\n",
    "}\n",
    "\n",
    "function sayMyName(firstName, lastName, printFunction) {\n",
    "    let fullName = `${firstName} ${lastName}`;\n",
    "    printFunction(fullName);\n",
    "}\n",
    "\n",
    "sayMyName('Silvia', 'Hua', outputName);"
   ]
  },
  {
   "cell_type": "code",
   "execution_count": 4,
   "metadata": {},
   "outputs": [
    {
     "name": "stdout",
     "output_type": "stream",
     "text": [
      "Silvia Hua\n"
     ]
    }
   ],
   "source": [
    "sayMyName('Silvia', 'Hua', console.log)"
   ]
  },
  {
   "cell_type": "markdown",
   "metadata": {},
   "source": [
    "## Anonymous Functions as Parameters"
   ]
  },
  {
   "cell_type": "code",
   "execution_count": null,
   "metadata": {},
   "outputs": [],
   "source": [
    "setTimeout(function() {\n",
    "    console.log('hello')\n",
    "}, 2000);"
   ]
  },
  {
   "cell_type": "code",
   "execution_count": null,
   "metadata": {},
   "outputs": [],
   "source": [
    "setTimeout(function() {\n",
    "    // console.log('hello')\n",
    "    sayMyName('Silvia', 'Hua', outputName)\n",
    "}, 2000);"
   ]
  },
  {
   "cell_type": "code",
   "execution_count": null,
   "metadata": {},
   "outputs": [],
   "source": [
    "setTimeout(() => {\n",
    "    console.log('hello')\n",
    "}, 2000);"
   ]
  },
  {
   "cell_type": "code",
   "execution_count": null,
   "metadata": {},
   "outputs": [],
   "source": [
    "setTimeout(() => {\n",
    "    // console.log('hello')\n",
    "    sayMyName('Silvia', 'Hua', outputName)\n",
    "}, 2000);"
   ]
  },
  {
   "cell_type": "code",
   "execution_count": 1,
   "metadata": {},
   "outputs": [
    {
     "name": "stdout",
     "output_type": "stream",
     "text": [
      "{ date: 'today' }\n"
     ]
    }
   ],
   "source": [
    "let myArray = {}\n",
    "myArray['date'] = 'today'\n",
    "console.log(myArray)"
   ]
  },
  {
   "cell_type": "code",
   "execution_count": 2,
   "metadata": {},
   "outputs": [
    {
     "data": {
      "text/plain": [
       "9"
      ]
     },
     "execution_count": 2,
     "metadata": {},
     "output_type": "execute_result"
    }
   ],
   "source": [
    "myArray['time'] = {};\n",
    "myArray['time'] = 9"
   ]
  },
  {
   "attachments": {},
   "cell_type": "markdown",
   "metadata": {},
   "source": [
    "# *End of Page*"
   ]
  }
 ],
 "metadata": {
  "kernelspec": {
   "display_name": "JavaScript (Node.js)",
   "language": "javascript",
   "name": "javascript"
  },
  "language_info": {
   "file_extension": ".js",
   "mimetype": "application/javascript",
   "name": "javascript",
   "version": "17.9.1"
  },
  "orig_nbformat": 4,
  "vscode": {
   "interpreter": {
    "hash": "11938c6bc6919ae2720b4d5011047913343b08a43b18698fd82dedb0d4417594"
   }
  }
 },
 "nbformat": 4,
 "nbformat_minor": 2
}
