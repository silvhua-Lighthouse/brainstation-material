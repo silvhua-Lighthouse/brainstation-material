{
 "cells": [
  {
   "attachments": {},
   "cell_type": "markdown",
   "metadata": {},
   "source": [
    "# 2024-05-27 morning challenge\n",
    "\n",
    "Debug"
   ]
  },
  {
   "cell_type": "code",
   "execution_count": null,
   "metadata": {},
   "outputs": [],
   "source": [
    "function displayEvenNumbers() {\n",
    "    let numbers = [1, 2, 3, 4, 5, 6, 7, 8];\n",
    "    let evenNumbers = [];\n",
    "    for (let i = 0; i < numbers.length -1; i++;) {\n",
    "        if (numbers % 2 = 0); {\n",
    "            evenNumbers.push(i)\n",
    "        }\n",
    "        return evenNumbers;\n",
    "    }\n",
    "}\n",
    "console.log(displayEvenNumbers())"
   ]
  },
  {
   "cell_type": "markdown",
   "metadata": {},
   "source": [
    "## my solution"
   ]
  },
  {
   "cell_type": "code",
   "execution_count": 2,
   "metadata": {},
   "outputs": [
    {
     "name": "stdout",
     "output_type": "stream",
     "text": [
      "[ 2, 4, 6, 8 ]\n"
     ]
    }
   ],
   "source": [
    "function displayEvenNumbers() {\n",
    "    let numbers = [1, 2, 3, 4, 5, 6, 7, 8];\n",
    "    let evenNumbers = [];\n",
    "    for (let i = 0; i < numbers.length; i++) { // remove `-1` and extra semi-colon\n",
    "        let currentNumber = numbers[i]; // add this\n",
    "        if (currentNumber % 2 === 0) { // change `=` to `===` and remove extra semi-colon\n",
    "            evenNumbers.push(currentNumber) // change `i` to `currentNumber`\n",
    "        }\n",
    "    }\n",
    "    return evenNumbers; // take this line out of the for loop and decrease its indent\n",
    "}\n",
    "console.log(displayEvenNumbers())"
   ]
  },
  {
   "cell_type": "markdown",
   "metadata": {},
   "source": [
    "# Destructuring"
   ]
  },
  {
   "cell_type": "code",
   "execution_count": 1,
   "metadata": {},
   "outputs": [
    {
     "name": "stdout",
     "output_type": "stream",
     "text": [
      "[\n",
      "  {\n",
      "    id: 90685,\n",
      "    gramWeight: 124,\n",
      "    sequenceNumber: 1,\n",
      "    amount: 0.5,\n",
      "    modifier: 'cup',\n",
      "    measureUnit: { id: 9999, name: 'undetermined', abbreviation: 'undetermined' }\n",
      "  },\n",
      "  {\n",
      "    id: 90686,\n",
      "    gramWeight: 116,\n",
      "    sequenceNumber: 2,\n",
      "    amount: 0.25,\n",
      "    modifier: 'block',\n",
      "    measureUnit: { id: 9999, name: 'undetermined', abbreviation: 'undetermined' }\n",
      "  }\n",
      "]\n"
     ]
    }
   ],
   "source": [
    "dataObject = {\n",
    "    \"fdcId\": 172476,\n",
    "    \"description\": \"Tofu, raw, regular, prepared with calcium sulfate\",\n",
    "    \"publicationDate\": \"4/1/2019\",\n",
    "    \"foodNutrients\": [\n",
    "      {\n",
    "        \"type\": \"FoodNutrient\",\n",
    "        \"nutrient\": {\n",
    "          \"id\": 1003,\n",
    "          \"number\": \"203\",\n",
    "          \"name\": \"Protein\",\n",
    "          \"rank\": 600,\n",
    "          \"unitName\": \"g\"\n",
    "        },\n",
    "        \"id\": 1698168,\n",
    "        \"amount\": 8.08,\n",
    "        \"dataPoints\": 44\n",
    "      },\n",
    "      {\n",
    "        \"type\": \"FoodNutrient\",\n",
    "        \"nutrient\": {\n",
    "          \"id\": 1004,\n",
    "          \"number\": \"204\",\n",
    "          \"name\": \"Total lipid (fat)\",\n",
    "          \"rank\": 800,\n",
    "          \"unitName\": \"g\"\n",
    "        },\n",
    "        \"id\": 1698160,\n",
    "        \"amount\": 4.78,\n",
    "        \"dataPoints\": 8\n",
    "      },\n",
    "      {\n",
    "        \"type\": \"FoodNutrient\",\n",
    "        \"nutrient\": {\n",
    "          \"id\": 1005,\n",
    "          \"number\": \"205\",\n",
    "          \"name\": \"Carbohydrate, by difference\",\n",
    "          \"rank\": 1110,\n",
    "          \"unitName\": \"g\"\n",
    "        },\n",
    "        \"foodNutrientDerivation\": {\n",
    "          \"id\": 49,\n",
    "          \"code\": \"NC\",\n",
    "          \"description\": \"Calculated\",\n",
    "          \"foodNutrientSource\": {\n",
    "            \"id\": 2,\n",
    "            \"code\": \"4\",\n",
    "            \"description\": \"Calculated or imputed\"\n",
    "          }\n",
    "        },\n",
    "        \"id\": 1698145,\n",
    "        \"amount\": 1.87,\n",
    "        \"dataPoints\": 0\n",
    "      }\n",
    "    ],\n",
    "    \"foodPortions\": [\n",
    "      {\n",
    "        \"id\": 90685,\n",
    "        \"gramWeight\": 124,\n",
    "        \"sequenceNumber\": 1,\n",
    "        \"amount\": 0.5,\n",
    "        \"modifier\": \"cup\",\n",
    "        \"measureUnit\": {\n",
    "          \"id\": 9999,\n",
    "          \"name\": \"undetermined\",\n",
    "          \"abbreviation\": \"undetermined\"\n",
    "        }\n",
    "      },\n",
    "      {\n",
    "        \"id\": 90686,\n",
    "        \"gramWeight\": 116,\n",
    "        \"sequenceNumber\": 2,\n",
    "        \"amount\": 0.25,\n",
    "        \"modifier\": \"block\",\n",
    "        \"measureUnit\": {\n",
    "          \"id\": 9999,\n",
    "          \"name\": \"undetermined\",\n",
    "          \"abbreviation\": \"undetermined\"\n",
    "        }\n",
    "      }\n",
    "    ],\n",
    "    \"dataType\": \"SR Legacy\",\n",
    "    \"foodClass\": \"FinalFood\",\n",
    "    \"foodComponents\": [],\n",
    "    \"foodAttributes\": [],\n",
    "    \"nutrientConversionFactors\": [\n",
    "      {\n",
    "        \"id\": 14774,\n",
    "        \"proteinValue\": 3.47,\n",
    "        \"fatValue\": 8.37,\n",
    "        \"carbohydrateValue\": 4.07,\n",
    "        \"type\": \".CalorieConversionFactor\",\n",
    "        \"name\": \"Calories From Proximates\"\n",
    "      },\n",
    "      {\n",
    "        \"id\": 20227,\n",
    "        \"value\": 6.25,\n",
    "        \"type\": \".ProteinConversionFactor\",\n",
    "        \"name\": \"Protein From Nitrogen\"\n",
    "      }\n",
    "    ],\n",
    "    \"inputFoods\": [],\n",
    "    \"ndbNumber\": 16427,\n",
    "    \"isHistoricalReference\": true,\n",
    "    \"foodCategory\": {\n",
    "      \"id\": 16,\n",
    "      \"code\": \"1600\",\n",
    "      \"description\": \"Legumes and Legume Products\"\n",
    "    }\n",
    "  }\n",
    "\n",
    "console.log(dataObject?.foodPortions)"
   ]
  },
  {
   "cell_type": "code",
   "execution_count": 10,
   "metadata": {},
   "outputs": [
    {
     "name": "stdout",
     "output_type": "stream",
     "text": [
      "undefined\n"
     ]
    }
   ],
   "source": [
    "console.log(dataObject?.foodPortions[0]?.misc)"
   ]
  },
  {
   "cell_type": "code",
   "execution_count": null,
   "metadata": {},
   "outputs": [],
   "source": []
  },
  {
   "cell_type": "code",
   "execution_count": null,
   "metadata": {},
   "outputs": [],
   "source": []
  },
  {
   "cell_type": "code",
   "execution_count": null,
   "metadata": {},
   "outputs": [],
   "source": []
  },
  {
   "cell_type": "code",
   "execution_count": null,
   "metadata": {},
   "outputs": [],
   "source": []
  },
  {
   "cell_type": "code",
   "execution_count": null,
   "metadata": {},
   "outputs": [],
   "source": []
  },
  {
   "cell_type": "code",
   "execution_count": null,
   "metadata": {},
   "outputs": [],
   "source": []
  },
  {
   "cell_type": "code",
   "execution_count": null,
   "metadata": {},
   "outputs": [],
   "source": []
  },
  {
   "cell_type": "code",
   "execution_count": null,
   "metadata": {},
   "outputs": [],
   "source": []
  },
  {
   "cell_type": "code",
   "execution_count": null,
   "metadata": {},
   "outputs": [],
   "source": []
  },
  {
   "cell_type": "code",
   "execution_count": null,
   "metadata": {},
   "outputs": [],
   "source": []
  },
  {
   "cell_type": "code",
   "execution_count": null,
   "metadata": {},
   "outputs": [],
   "source": []
  },
  {
   "cell_type": "code",
   "execution_count": null,
   "metadata": {},
   "outputs": [],
   "source": []
  },
  {
   "cell_type": "code",
   "execution_count": null,
   "metadata": {},
   "outputs": [],
   "source": []
  },
  {
   "cell_type": "code",
   "execution_count": null,
   "metadata": {},
   "outputs": [],
   "source": []
  },
  {
   "cell_type": "code",
   "execution_count": null,
   "metadata": {},
   "outputs": [],
   "source": []
  },
  {
   "cell_type": "code",
   "execution_count": null,
   "metadata": {},
   "outputs": [],
   "source": []
  },
  {
   "cell_type": "code",
   "execution_count": null,
   "metadata": {},
   "outputs": [],
   "source": []
  },
  {
   "attachments": {},
   "cell_type": "markdown",
   "metadata": {},
   "source": [
    "# *End of Page*"
   ]
  }
 ],
 "metadata": {
  "kernelspec": {
   "display_name": "JavaScript (Node.js)",
   "language": "javascript",
   "name": "javascript"
  },
  "language_info": {
   "file_extension": ".js",
   "mimetype": "application/javascript",
   "name": "javascript",
   "version": "17.9.1"
  },
  "orig_nbformat": 4,
  "vscode": {
   "interpreter": {
    "hash": "11938c6bc6919ae2720b4d5011047913343b08a43b18698fd82dedb0d4417594"
   }
  }
 },
 "nbformat": 4,
 "nbformat_minor": 2
}
